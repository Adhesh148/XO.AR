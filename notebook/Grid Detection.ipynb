{
 "cells": [
  {
   "cell_type": "code",
   "execution_count": 7,
   "id": "5d104c44",
   "metadata": {},
   "outputs": [],
   "source": [
    "# import necessary libraries\n",
    "import numpy as np\n",
    "import math\n",
    "import cv2"
   ]
  },
  {
   "cell_type": "code",
   "execution_count": 8,
   "id": "79058e0a",
   "metadata": {},
   "outputs": [],
   "source": [
    "# load the image\n",
    "img = cv2.imread('../data/or_grid_2.jpg')"
   ]
  },
  {
   "cell_type": "markdown",
   "id": "1b5e3d7f",
   "metadata": {},
   "source": [
    "### Preprocess the Image First"
   ]
  },
  {
   "cell_type": "code",
   "execution_count": 9,
   "id": "395acd21",
   "metadata": {},
   "outputs": [],
   "source": [
    "# scale the image first\n",
    "imgRsize = cv2.resize(img,(800,800), interpolation = cv2.INTER_AREA)"
   ]
  },
  {
   "cell_type": "code",
   "execution_count": 10,
   "id": "c6bb7457",
   "metadata": {},
   "outputs": [],
   "source": [
    "# process the image\n",
    "imgGray = cv2.cvtColor(imgRsize,cv2.COLOR_BGR2GRAY)\n",
    "imgBlur = cv2.GaussianBlur(imgGray,(5,5),3)\n",
    "imgCanny = cv2.Canny(imgBlur,50,50)"
   ]
  },
  {
   "cell_type": "code",
   "execution_count": 12,
   "id": "9912f94e",
   "metadata": {},
   "outputs": [],
   "source": [
    "cv2.imshow('image', imgRsize)\n",
    "cv2.waitKey(0)\n",
    "cv2.destroyAllWindows()"
   ]
  },
  {
   "cell_type": "markdown",
   "id": "d1428a7b",
   "metadata": {},
   "source": [
    "### Shadow Removal"
   ]
  },
  {
   "cell_type": "code",
   "execution_count": 13,
   "id": "68a3051e",
   "metadata": {},
   "outputs": [],
   "source": [
    "rgb_planes = cv2.split(imgRsize)\n",
    "\n",
    "result_planes = []\n",
    "result_norm_planes = []\n",
    "for plane in rgb_planes:\n",
    "    dilated_img = cv2.dilate(plane, np.ones((7,7), np.uint8))\n",
    "    bg_img = cv2.medianBlur(dilated_img, 21)\n",
    "    diff_img = 255 - cv2.absdiff(plane, bg_img)\n",
    "    norm_img = cv2.normalize(diff_img,None, alpha=0, beta=255, norm_type=cv2.NORM_MINMAX, dtype=cv2.CV_8UC1)\n",
    "    result_planes.append(diff_img)\n",
    "    result_norm_planes.append(norm_img)\n",
    "\n",
    "result = cv2.merge(result_planes)\n",
    "result_norm = cv2.merge(result_norm_planes)"
   ]
  },
  {
   "cell_type": "code",
   "execution_count": 15,
   "id": "b6811278",
   "metadata": {},
   "outputs": [],
   "source": [
    "cv2.imshow('image', result_norm)\n",
    "cv2.waitKey(0)\n",
    "cv2.destroyAllWindows()"
   ]
  },
  {
   "cell_type": "markdown",
   "id": "6357cefb",
   "metadata": {},
   "source": [
    "### Line Detection"
   ]
  },
  {
   "cell_type": "code",
   "execution_count": 6,
   "id": "a6a83730",
   "metadata": {},
   "outputs": [],
   "source": [
    "rho = 1  # distance resolution in pixels of the Hough grid\n",
    "theta = np.pi / 180  # angular resolution in radians of the Hough grid\n",
    "threshold = 70  # minimum number of votes (intersections in Hough grid cell)\n",
    "min_line_length = 100  # minimum number of pixels making up a line\n",
    "max_line_gap = 150  # maximum gap in pixels between connectable line segments\n",
    "line_image = np.copy(imgRsize) * 0  # creating a blank to draw lines on\n",
    "\n",
    "# Run Hough on edge detected image\n",
    "# Output \"lines\" is an array containing endpoints of detected line segments\n",
    "lines = cv2.HoughLinesP(imgCanny, rho, theta, threshold, np.array([]),\n",
    "                    min_line_length, max_line_gap)\n",
    "\n",
    "for line in lines:\n",
    "    for x1,y1,x2,y2 in line:\n",
    "        cv2.line(line_image,(x1,y1),(x2,y2),(255,0,0),5)"
   ]
  },
  {
   "cell_type": "code",
   "execution_count": 7,
   "id": "ccc1a718",
   "metadata": {},
   "outputs": [],
   "source": [
    "lines_edges = cv2.addWeighted(imgRsize, 0.8, line_image, 1, 0)"
   ]
  },
  {
   "cell_type": "code",
   "execution_count": 8,
   "id": "6ef941e3",
   "metadata": {},
   "outputs": [],
   "source": [
    "cv2.imshow('image', lines_edges)\n",
    "cv2.waitKey(0)\n",
    "cv2.destroyAllWindows()"
   ]
  },
  {
   "cell_type": "code",
   "execution_count": 9,
   "id": "558a4ea4",
   "metadata": {},
   "outputs": [
    {
     "data": {
      "text/plain": [
       "array([[[288, 126, 309, 739]],\n",
       "\n",
       "       [[293, 130, 313, 725]],\n",
       "\n",
       "       [[177, 515, 664, 507]],\n",
       "\n",
       "       [[168, 294, 640, 270]],\n",
       "\n",
       "       [[530, 355, 530, 162]],\n",
       "\n",
       "       [[175, 520, 699, 511]],\n",
       "\n",
       "       [[174, 299, 639, 274]],\n",
       "\n",
       "       [[292, 125, 313, 740]],\n",
       "\n",
       "       [[531, 423, 536, 730]],\n",
       "\n",
       "       [[526, 376, 532, 732]],\n",
       "\n",
       "       [[288, 152, 308, 730]],\n",
       "\n",
       "       [[525, 295, 525, 113]],\n",
       "\n",
       "       [[550, 509, 693, 507]],\n",
       "\n",
       "       [[527, 491, 531, 731]],\n",
       "\n",
       "       [[526, 369, 529, 141]],\n",
       "\n",
       "       [[307, 512, 533, 508]],\n",
       "\n",
       "       [[531, 390, 534, 593]]], dtype=int32)"
      ]
     },
     "execution_count": 9,
     "metadata": {},
     "output_type": "execute_result"
    }
   ],
   "source": [
    "lines"
   ]
  },
  {
   "cell_type": "code",
   "execution_count": 10,
   "id": "4ad54174",
   "metadata": {},
   "outputs": [
    {
     "data": {
      "text/plain": [
       "array([288, 126, 309, 739, 293, 130, 313, 725, 177, 515, 664, 507, 168,\n",
       "       294, 640, 270, 530, 355, 530, 162, 175, 520, 699, 511, 174, 299,\n",
       "       639, 274, 292, 125, 313, 740, 531, 423, 536, 730, 526, 376, 532,\n",
       "       732, 288, 152, 308, 730, 525, 295, 525, 113, 550, 509, 693, 507,\n",
       "       527, 491, 531, 731, 526, 369, 529, 141, 307, 512, 533, 508, 531,\n",
       "       390, 534, 593], dtype=int32)"
      ]
     },
     "execution_count": 10,
     "metadata": {},
     "output_type": "execute_result"
    }
   ],
   "source": [
    "flat = lines.flatten()\n",
    "flat"
   ]
  },
  {
   "cell_type": "code",
   "execution_count": 11,
   "id": "33d6def6",
   "metadata": {},
   "outputs": [
    {
     "data": {
      "text/plain": [
       "array([288, 293, 177, 168, 530, 175, 174, 292, 531, 526, 288, 525, 550,\n",
       "       527, 526, 307, 531], dtype=int32)"
      ]
     },
     "execution_count": 11,
     "metadata": {},
     "output_type": "execute_result"
    }
   ],
   "source": [
    "start_x = flat[::4]\n",
    "start_x"
   ]
  },
  {
   "cell_type": "code",
   "execution_count": 12,
   "id": "e21784af",
   "metadata": {},
   "outputs": [
    {
     "data": {
      "text/plain": [
       "array([126, 130, 515, 294, 355, 520, 299, 125, 423, 376, 152, 295, 509,\n",
       "       491, 369, 512, 390], dtype=int32)"
      ]
     },
     "execution_count": 12,
     "metadata": {},
     "output_type": "execute_result"
    }
   ],
   "source": [
    "start_y = flat[list(range(1,len(flat),4))]\n",
    "start_y"
   ]
  },
  {
   "cell_type": "code",
   "execution_count": 13,
   "id": "8481cf1a",
   "metadata": {},
   "outputs": [
    {
     "data": {
      "text/plain": [
       "array([309, 313, 664, 640, 530, 699, 639, 313, 536, 532, 308, 525, 693,\n",
       "       531, 529, 533, 534], dtype=int32)"
      ]
     },
     "execution_count": 13,
     "metadata": {},
     "output_type": "execute_result"
    }
   ],
   "source": [
    "end_x = flat[list(range(2,len(flat),4))]\n",
    "end_x"
   ]
  },
  {
   "cell_type": "code",
   "execution_count": 14,
   "id": "b19382ec",
   "metadata": {},
   "outputs": [
    {
     "data": {
      "text/plain": [
       "array([739, 725, 507, 270, 162, 511, 274, 740, 730, 732, 730, 113, 507,\n",
       "       731, 141, 508, 593], dtype=int32)"
      ]
     },
     "execution_count": 14,
     "metadata": {},
     "output_type": "execute_result"
    }
   ],
   "source": [
    "end_y = flat[list(range(3,len(flat),4))]\n",
    "end_y"
   ]
  },
  {
   "cell_type": "code",
   "execution_count": 15,
   "id": "2a57590b",
   "metadata": {},
   "outputs": [
    {
     "data": {
      "text/plain": [
       "array([288, 293, 177, 168, 530, 175, 174, 292, 531, 526, 288, 525, 550,\n",
       "       527, 526, 307, 531], dtype=int32)"
      ]
     },
     "execution_count": 15,
     "metadata": {},
     "output_type": "execute_result"
    }
   ],
   "source": [
    "start_x"
   ]
  },
  {
   "cell_type": "code",
   "execution_count": 16,
   "id": "eae1ee95",
   "metadata": {},
   "outputs": [],
   "source": [
    "xmin_indx = np.argmin(start_x)\n",
    "xmax_indx = np.argmax(end_x)\n",
    "ymin_indx = np.argmin(start_y)\n",
    "ymax_indx = np.argmax(end_y)"
   ]
  },
  {
   "cell_type": "code",
   "execution_count": 17,
   "id": "c9daab06",
   "metadata": {},
   "outputs": [
    {
     "name": "stdout",
     "output_type": "stream",
     "text": [
      "168 699 125 740\n"
     ]
    }
   ],
   "source": [
    "print(start_x[xmin_indx],end_x[xmax_indx],start_y[ymin_indx],end_y[ymax_indx])"
   ]
  },
  {
   "cell_type": "code",
   "execution_count": 18,
   "id": "05b8e4a1",
   "metadata": {},
   "outputs": [
    {
     "data": {
      "text/plain": [
       "[(168, 294), (699, 294)]"
      ]
     },
     "execution_count": 18,
     "metadata": {},
     "output_type": "execute_result"
    }
   ],
   "source": [
    "l1 = [(start_x[xmin_indx],start_y[xmin_indx]),(end_x[xmax_indx],start_y[xmin_indx])]\n",
    "l1"
   ]
  },
  {
   "cell_type": "code",
   "execution_count": 19,
   "id": "5131f672",
   "metadata": {},
   "outputs": [],
   "source": [
    "a = cv2.circle(imgRsize, l1[0], radius=5, color=(0, 0, 255), thickness=5)\n",
    "a = cv2.circle(imgRsize, l1[1], radius=5, color=(0, 0, 255), thickness=5)"
   ]
  },
  {
   "cell_type": "code",
   "execution_count": 20,
   "id": "3b4fa24c",
   "metadata": {},
   "outputs": [],
   "source": [
    "cv2.imshow('image', a)\n",
    "cv2.waitKey(0)\n",
    "cv2.destroyAllWindows()"
   ]
  },
  {
   "cell_type": "code",
   "execution_count": 21,
   "id": "e5191eb1",
   "metadata": {},
   "outputs": [
    {
     "data": {
      "text/plain": [
       "[(292, 125), (292, 740)]"
      ]
     },
     "execution_count": 21,
     "metadata": {},
     "output_type": "execute_result"
    }
   ],
   "source": [
    "l3 = [(start_x[ymin_indx], start_y[ymin_indx]), (start_x[ymin_indx],end_y[ymax_indx])]\n",
    "l3"
   ]
  },
  {
   "cell_type": "code",
   "execution_count": 22,
   "id": "85715f37",
   "metadata": {},
   "outputs": [],
   "source": [
    "a = cv2.circle(imgRsize, l3[0], radius=5, color=(0, 0, 255), thickness=5)\n",
    "a = cv2.circle(imgRsize, l3[1], radius=5, color=(0, 0, 255), thickness=5)"
   ]
  },
  {
   "cell_type": "code",
   "execution_count": 23,
   "id": "9ad4c934",
   "metadata": {},
   "outputs": [],
   "source": [
    "cv2.imshow('image', imgRsize)\n",
    "cv2.waitKey(0)\n",
    "cv2.destroyAllWindows()"
   ]
  },
  {
   "cell_type": "code",
   "execution_count": 24,
   "id": "46f97b0b",
   "metadata": {},
   "outputs": [],
   "source": [
    "y2 = 0\n",
    "next_min_indx = xmin_indx.copy()\n",
    "temp_start_x = start_x.copy()\n",
    "while(True):\n",
    "    temp_start_x[next_min_indx] = 1000\n",
    "    next_min_indx = np.argmin(temp_start_x)\n",
    "    if(np.abs(start_y[next_min_indx] - l1[0][1]) > 100):\n",
    "        y2 = start_y[next_min_indx]\n",
    "        break"
   ]
  },
  {
   "cell_type": "code",
   "execution_count": 25,
   "id": "fe139685",
   "metadata": {},
   "outputs": [
    {
     "data": {
      "text/plain": [
       "[(168, 520), (699, 520)]"
      ]
     },
     "execution_count": 25,
     "metadata": {},
     "output_type": "execute_result"
    }
   ],
   "source": [
    "l2 = [(l1[0][0],y2), (l1[1][0],y2)]\n",
    "l2"
   ]
  },
  {
   "cell_type": "code",
   "execution_count": 26,
   "id": "496757bf",
   "metadata": {},
   "outputs": [],
   "source": [
    "a = cv2.circle(imgRsize, (l1[0][0],y2), radius=5, color=(0, 0, 255), thickness=5)\n",
    "a= cv2.circle(imgRsize, (l1[1][0],y2), radius=5, color=(0, 0, 255), thickness=5)"
   ]
  },
  {
   "cell_type": "code",
   "execution_count": 27,
   "id": "afa4ebb4",
   "metadata": {},
   "outputs": [],
   "source": [
    "cv2.imshow('image', imgRsize)\n",
    "cv2.waitKey(0)\n",
    "cv2.destroyAllWindows()"
   ]
  },
  {
   "cell_type": "code",
   "execution_count": 28,
   "id": "2de06676",
   "metadata": {},
   "outputs": [],
   "source": [
    "x2 = 0\n",
    "next_min_indx = ymin_indx.copy()\n",
    "temp_start_y = start_y.copy()\n",
    "while(True):\n",
    "    temp_start_y[next_min_indx] = 10000\n",
    "    next_min_indx = np.argmin(temp_start_y)\n",
    "    if(np.abs(start_x[next_min_indx] - l3[0][0]) > 200):\n",
    "        x2 = start_x[next_min_indx]\n",
    "        break"
   ]
  },
  {
   "cell_type": "code",
   "execution_count": 29,
   "id": "21be80fc",
   "metadata": {},
   "outputs": [
    {
     "data": {
      "text/plain": [
       "[(292, 125), (292, 740)]"
      ]
     },
     "execution_count": 29,
     "metadata": {},
     "output_type": "execute_result"
    }
   ],
   "source": [
    "l3"
   ]
  },
  {
   "cell_type": "code",
   "execution_count": 30,
   "id": "06066e09",
   "metadata": {},
   "outputs": [
    {
     "data": {
      "text/plain": [
       "[(525, 125), (525, 740)]"
      ]
     },
     "execution_count": 30,
     "metadata": {},
     "output_type": "execute_result"
    }
   ],
   "source": [
    "l4 = [(x2,l3[0][1]), (x2,l3[1][1])]\n",
    "l4"
   ]
  },
  {
   "cell_type": "code",
   "execution_count": 31,
   "id": "2035f6ca",
   "metadata": {},
   "outputs": [],
   "source": [
    "a = cv2.circle(imgRsize, (x2,l3[0][1]), radius=5, color=(0, 0, 255), thickness=5)\n",
    "a = cv2.circle(imgRsize, (x2,l3[1][1]), radius=5, color=(0, 0, 255), thickness=5)"
   ]
  },
  {
   "cell_type": "code",
   "execution_count": 32,
   "id": "1a3959c1",
   "metadata": {},
   "outputs": [],
   "source": [
    "cv2.imshow('image', a)\n",
    "cv2.waitKey(0)\n",
    "cv2.destroyAllWindows()"
   ]
  },
  {
   "cell_type": "code",
   "execution_count": 33,
   "id": "92708e82",
   "metadata": {},
   "outputs": [],
   "source": [
    "P1 = (l3[0][0],l1[0][1])\n",
    "P2 = (l4[0][0],l1[0][1])\n",
    "P3 = (l3[0][0],l2[0][1])\n",
    "P4 = (l4[0][0],l2[0][1])"
   ]
  },
  {
   "cell_type": "code",
   "execution_count": 34,
   "id": "bb77da97",
   "metadata": {},
   "outputs": [
    {
     "data": {
      "text/plain": [
       "((292, 520), (525, 520))"
      ]
     },
     "execution_count": 34,
     "metadata": {},
     "output_type": "execute_result"
    }
   ],
   "source": [
    "P3, P4"
   ]
  },
  {
   "cell_type": "code",
   "execution_count": 35,
   "id": "0927dc3f",
   "metadata": {},
   "outputs": [],
   "source": [
    "a = cv2.circle(imgRsize, P1, radius=5, color=(0, 0, 255), thickness=5)\n",
    "a = cv2.circle(imgRsize, P2, radius=5, color=(0, 0, 255), thickness=5)\n",
    "a = cv2.circle(imgRsize, P3, radius=5, color=(0, 0, 255), thickness=5)\n",
    "a = cv2.circle(imgRsize, P4, radius=5, color=(0, 0, 255), thickness=5)"
   ]
  },
  {
   "cell_type": "code",
   "execution_count": 36,
   "id": "505ffcce",
   "metadata": {},
   "outputs": [],
   "source": [
    "cv2.imshow('image', a)\n",
    "cv2.waitKey(0)\n",
    "cv2.destroyAllWindows()"
   ]
  },
  {
   "cell_type": "markdown",
   "id": "acb14395",
   "metadata": {},
   "source": [
    "# Grid Detection for Static Image"
   ]
  },
  {
   "cell_type": "code",
   "execution_count": 1,
   "id": "62a59482",
   "metadata": {},
   "outputs": [],
   "source": [
    "import cv2\n",
    "import numpy as np\n",
    "import math"
   ]
  },
  {
   "cell_type": "code",
   "execution_count": 2,
   "id": "516ec3ee",
   "metadata": {},
   "outputs": [],
   "source": [
    "def shadowRemoval(src):\n",
    "    \"\"\"\n",
    "    removes shadow from an image\n",
    "    :param src: resized src img\n",
    "    \"\"\"\n",
    "    \n",
    "    rgb_planes = cv2.split(imgRsize)\n",
    "\n",
    "    result_planes = []\n",
    "    result_norm_planes = []\n",
    "    for plane in rgb_planes:\n",
    "        dilated_img = cv2.dilate(plane, np.ones((7,7), np.uint8))\n",
    "        bg_img = cv2.medianBlur(dilated_img, 21)\n",
    "        diff_img = 255 - cv2.absdiff(plane, bg_img)\n",
    "        norm_img = cv2.normalize(diff_img,None, alpha=0, beta=255, norm_type=cv2.NORM_MINMAX, dtype=cv2.CV_8UC1)\n",
    "        result_planes.append(diff_img)\n",
    "        result_norm_planes.append(norm_img)\n",
    "\n",
    "    result = cv2.merge(result_planes)\n",
    "    result_norm = cv2.merge(result_norm_planes)\n",
    "    \n",
    "    return result_norm"
   ]
  },
  {
   "cell_type": "code",
   "execution_count": 16,
   "id": "67884d3d",
   "metadata": {},
   "outputs": [],
   "source": [
    "def getGrids(img):\n",
    "    \"\"\"\n",
    "    returns the coordinate points of the 9 grids to be detected\n",
    "    :param img: raw src image\n",
    "    \"\"\"\n",
    "    \n",
    "    # Step-1: Preprocess the raw img\n",
    "    img_resized = cv2.resize(img,(800,800), interpolation = cv2.INTER_AREA)\n",
    "    #img_bright = shadowRemoval(img_resized)\n",
    "    img_gray = cv2.cvtColor(img_resized,cv2.COLOR_BGR2GRAY)\n",
    "    img_blur = cv2.GaussianBlur(img_gray,(5,5),3)\n",
    "    img_canny = cv2.Canny(img_blur,50,50)\n",
    "    \n",
    "    # Step-2: Detect lines in the image\n",
    "    \n",
    "    # Parameters of Houglines function\n",
    "    rho = 1                                  # distance resolution in pixels of the Hough grid\n",
    "    theta = np.pi / 200                      # angular resolution in radians of the Hough grid\n",
    "    threshold = 70                           # minimum number of votes (intersections in Hough grid cell)\n",
    "    min_line_length = 50                     # minimum number of pixels making up a line\n",
    "    max_line_gap = 100                       # maximum gap in pixels between connectable line segments\n",
    "    line_image = np.copy(img_resized) * 0    # creating a blank to draw lines on\n",
    "\n",
    "    # Run Hough on edge detected image\n",
    "    lines = cv2.HoughLinesP(img_canny, rho, theta, threshold, np.array([]),\n",
    "                        min_line_length, max_line_gap)\n",
    "    \n",
    "    # separate the coordinates into separate lists\n",
    "    flat_lines_lst = lines.flatten()\n",
    "    num_lines = len(flat_lines_lst)\n",
    "    start_x, start_y, end_x, end_y = flat_lines_lst[::4], flat_lines_lst[list(range(1,num_lines,4))], \\\n",
    "                                        flat_lines_lst[list(range(2,num_lines,4))], flat_lines_lst[list(range(3,num_lines,4))]\n",
    "    \n",
    "    # Get important coordinates related to the grid\n",
    "    xmin_indx = np.argmin(start_x)\n",
    "    xmax_indx = np.argmax(end_x)\n",
    "    ymin_indx = np.argmin(start_y)\n",
    "    ymax_indx = np.argmax(end_y)\n",
    "    \n",
    "    # Get the coordinates of the horizontal lines\n",
    "    H1 = [(start_x[xmin_indx],start_y[xmin_indx]),(end_x[xmax_indx],start_y[xmin_indx])]      # first Hline\n",
    "    \n",
    "    # The second horizontal line differs from H1 only in its y axis\n",
    "    y2 = 0\n",
    "    next_min_indx = xmin_indx\n",
    "    temp_start_x = start_x.copy()\n",
    "    while(True):\n",
    "        temp_start_x[next_min_indx] = 10000\n",
    "        next_min_indx = np.argmin(temp_start_x)\n",
    "        if(np.abs(start_y[next_min_indx] - H1[0][1]) > 200):\n",
    "            y2 = start_y[next_min_indx]\n",
    "            break\n",
    "    \n",
    "    H2 = [(start_x[xmin_indx],y2),(end_x[xmax_indx],y2)]\n",
    "    \n",
    "    # Get the coordinates of the vertical lines\n",
    "    V1 = [(start_x[ymin_indx], start_y[ymin_indx]), (start_x[ymin_indx],end_y[ymax_indx])]\n",
    "    \n",
    "    # Find x axis of the V2 line\n",
    "    x2 = 0\n",
    "    next_min_indx = ymin_indx\n",
    "    temp_start_y = start_y.copy()\n",
    "    while(True):\n",
    "        temp_start_y[next_min_indx] = 10000\n",
    "        next_min_indx = np.argmin(temp_start_y)\n",
    "        if(np.abs(start_x[next_min_indx] - V1[0][0]) > 200):\n",
    "            x2 = start_x[next_min_indx]\n",
    "            break\n",
    "    \n",
    "    V2 = [(x2,V1[0][1]), (x2,V1[1][1])]\n",
    "    \n",
    "    # Find the intersection points\n",
    "    P1 = (V1[0][0],H1[0][1])\n",
    "    P2 = (V2[0][0],H1[0][1])\n",
    "    P3 = (V1[0][0],H2[0][1])\n",
    "    P4 = (V2[0][0],H2[0][1])\n",
    "    \n",
    "    img_final = img_resized.copy()\n",
    "    cv2.circle(img_final, H1[0], radius=5, color=(0, 0, 255), thickness=5)\n",
    "    cv2.circle(img_final, H1[1], radius=5, color=(0, 0, 255), thickness=5)\n",
    "    cv2.circle(img_final, H2[0], radius=5, color=(0, 0, 255), thickness=5)\n",
    "    cv2.circle(img_final, H2[1], radius=5, color=(0, 0, 255), thickness=5)\n",
    "    cv2.circle(img_final, V1[0], radius=5, color=(0, 0, 255), thickness=5)\n",
    "    cv2.circle(img_final, V1[1], radius=5, color=(0, 0, 255), thickness=5)\n",
    "    cv2.circle(img_final, V2[0], radius=5, color=(0, 0, 255), thickness=5)\n",
    "    cv2.circle(img_final, V2[1], radius=5, color=(0, 0, 255), thickness=5)\n",
    "    \n",
    "    cv2.circle(img_final, P1, radius=5, color=(0, 0, 255), thickness=5)\n",
    "    cv2.circle(img_final, P2, radius=5, color=(0, 0, 255), thickness=5)\n",
    "    cv2.circle(img_final, P3, radius=5, color=(0, 0, 255), thickness=5)\n",
    "    cv2.circle(img_final, P4, radius=5, color=(0, 0, 255), thickness=5)\n",
    "    \n",
    "    # Get the relevant vertices in order\n",
    "    if H1[0][1] < H2[0][1]:\n",
    "        h1 = H1\n",
    "        h2 = H2\n",
    "    else:\n",
    "        h1 = H2\n",
    "        h2 = H1\n",
    "        \n",
    "    if V1[0][0] < V2[0][0]:\n",
    "        v1 = V1\n",
    "        v2 = V2\n",
    "    else:\n",
    "        v1 = V2\n",
    "        v2 = V1\n",
    "        \n",
    "    p1 = (v1[0][0],h1[0][1])\n",
    "    p2 = (v2[0][0],h1[0][1])\n",
    "    p3 = (v2[0][0],h2[0][1])\n",
    "    p4 = (v1[0][0],h2[0][1])\n",
    "    \n",
    "    # Get all the nine grids\n",
    "    grid1 = img_resized[max(v1[0][1]-50,0):p1[1]-10,max(h2[0][0]-50,0):p1[0]-10]\n",
    "    grid2 = img_resized[max(v1[0][1]-50,0):p1[1]-10,p1[0]+5:p2[0]-10]\n",
    "    grid3 = img_resized[max(v1[0][1]-50,0):p1[1]-10,p2[0]+5:h1[1][0] + 10]\n",
    "    \n",
    "    grid4 = img_resized[p1[1]+10:p4[1]-10,max(h2[0][0]-50,0):p1[0]-10]\n",
    "    grid5 = img_resized[p1[1]+10:p4[1]-10,p1[0]+5:p2[0]-10]\n",
    "    grid6 = img_resized[p1[1]+10:p4[1]-10,p2[0]+5:h1[1][0] + 10]\n",
    "    \n",
    "    grid7 = img_resized[p4[1]+10:v1[1][1]+50,max(h2[0][0]-50,0):p1[0]-10]\n",
    "    grid8 = img_resized[p4[1]+10:v1[1][1]+50,p1[0]+5:p2[0]-10]\n",
    "    grid9 = img_resized[p4[1]+10:v1[1][1]+50,p2[0]+5:h1[1][0] + 10]\n",
    "    \n",
    "    grids = [grid1, grid2, grid3, grid4, grid5, grid6, grid7, grid8, grid9]\n",
    "    \n",
    "    return img_final, grids"
   ]
  },
  {
   "cell_type": "code",
   "execution_count": 17,
   "id": "49d9fd56",
   "metadata": {},
   "outputs": [],
   "source": [
    "# load the image\n",
    "#img = cv2.imread('../data/grids/image/or_grid_2_txt.jpg')\n",
    "img = cv2.imread('photo.jpg')"
   ]
  },
  {
   "cell_type": "code",
   "execution_count": 18,
   "id": "8af48ce7",
   "metadata": {},
   "outputs": [],
   "source": [
    "img_grid,grids = getGrids(img)"
   ]
  },
  {
   "cell_type": "code",
   "execution_count": 25,
   "id": "4b90d0e4",
   "metadata": {},
   "outputs": [],
   "source": [
    "cv2.imshow('image', grids[6])\n",
    "cv2.waitKey(0)\n",
    "cv2.destroyAllWindows()"
   ]
  },
  {
   "cell_type": "code",
   "execution_count": 11,
   "id": "cb54b9f0",
   "metadata": {},
   "outputs": [],
   "source": [
    "cv2.imshow('image', img_grid)\n",
    "cv2.waitKey(0)\n",
    "cv2.destroyAllWindows()"
   ]
  },
  {
   "cell_type": "markdown",
   "id": "eaed7054",
   "metadata": {},
   "source": [
    "# Video Grid Detection"
   ]
  },
  {
   "cell_type": "code",
   "execution_count": 9,
   "id": "aaf432cd",
   "metadata": {},
   "outputs": [],
   "source": [
    "cap = cv2.VideoCapture('../data/grids/video/or_grid_vid_1.mp4')\n",
    "\n",
    "while(cap.isOpened()):\n",
    "    ret, frame = cap.read()\n",
    "    \n",
    "    if ret == True:\n",
    "        img_grid = getGrids(frame)\n",
    "        cv2.imshow('frame',img_grid)\n",
    "    \n",
    "        if cv2.waitKey(30) == ord('q'):\n",
    "            break\n",
    "\n",
    "cap.release()\n",
    "cv2.destroyAllWindows()"
   ]
  },
  {
   "cell_type": "markdown",
   "id": "88ab421c",
   "metadata": {},
   "source": [
    "## Grid Content Check Function"
   ]
  },
  {
   "cell_type": "code",
   "execution_count": 135,
   "id": "3a4727e6",
   "metadata": {},
   "outputs": [],
   "source": [
    "# load the image\n",
    "img = cv2.imread('../data/grids/image/or_grid_2_fill.jpg')"
   ]
  },
  {
   "cell_type": "code",
   "execution_count": 136,
   "id": "b2cce9aa",
   "metadata": {},
   "outputs": [],
   "source": [
    "imgRsize = cv2.resize(img,(800,800), interpolation = cv2.INTER_AREA)\n",
    "imgGray = cv2.cvtColor(imgRsize,cv2.COLOR_BGR2GRAY)\n",
    "imgBlur = cv2.GaussianBlur(imgGray,(5,5),3)\n",
    "imgCanny = cv2.Canny(imgBlur,50,50)\n",
    "imgBW = cv2.threshold(imgBlur, 128, 255, cv2.THRESH_BINARY)[1]"
   ]
  },
  {
   "cell_type": "code",
   "execution_count": 141,
   "id": "74f0fe6b",
   "metadata": {},
   "outputs": [],
   "source": [
    "cv2.imshow('image', imgCanny)\n",
    "cv2.waitKey(0)\n",
    "cv2.destroyAllWindows()"
   ]
  },
  {
   "cell_type": "code",
   "execution_count": 138,
   "id": "84a1ea6d",
   "metadata": {},
   "outputs": [],
   "source": [
    "img_grid,grids = getGrids(img)"
   ]
  },
  {
   "cell_type": "code",
   "execution_count": 142,
   "id": "2092ae30",
   "metadata": {},
   "outputs": [],
   "source": [
    "cv2.imshow('image', grids[1])\n",
    "cv2.waitKey(0)\n",
    "cv2.destroyAllWindows()"
   ]
  },
  {
   "cell_type": "code",
   "execution_count": 26,
   "id": "55fbca9d",
   "metadata": {},
   "outputs": [],
   "source": [
    "def isGridFilled(grid):\n",
    "    \"\"\"\n",
    "    returns True if grid is filled with either X or O; else False\n",
    "    \"\"\"\n",
    "    imgRsize = cv2.resize(grid,(200,200), interpolation = cv2.INTER_AREA)\n",
    "    imgGray = cv2.cvtColor(imgRsize,cv2.COLOR_BGR2GRAY)\n",
    "    imgBlur = cv2.GaussianBlur(imgGray,(5,5),3)\n",
    "    imgCanny = cv2.Canny(imgBlur,50,50)\n",
    "    \n",
    "    num_wt_pixels = np.sum(imgCanny == 255)\n",
    "    \n",
    "    if num_wt_pixels > 300:\n",
    "        return True\n",
    "    \n",
    "    else:\n",
    "        return False\n",
    "    "
   ]
  },
  {
   "cell_type": "code",
   "execution_count": 38,
   "id": "171a4917",
   "metadata": {},
   "outputs": [],
   "source": [
    "def containsCircle(img):\n",
    "    \"\"\"\n",
    "    returns True if grid has circle; else 0\n",
    "    \"\"\"\n",
    "    imgRsize = cv2.resize(img,(200,200), interpolation = cv2.INTER_AREA)\n",
    "    imgGray = cv2.cvtColor(imgRsize,cv2.COLOR_BGR2GRAY)\n",
    "    imgBlur = cv2.GaussianBlur(imgGray,(5,5),3)\n",
    "    #imgCanny = cv2.Canny(imgBlur,50,50)\n",
    "    \n",
    "    detected_circles = cv2.HoughCircles(imgBlur, \n",
    "                   cv2.HOUGH_GRADIENT, 1, 20, param1 = 50,\n",
    "               param2 = 30, minRadius = 1, maxRadius = 40)\n",
    "    \n",
    "    if detected_circles is not None:\n",
    "        return True\n",
    "    else:\n",
    "        return False"
   ]
  },
  {
   "cell_type": "code",
   "execution_count": 39,
   "id": "7659491c",
   "metadata": {},
   "outputs": [],
   "source": [
    "coin = cv2.imread('coin.png')"
   ]
  },
  {
   "cell_type": "code",
   "execution_count": 40,
   "id": "a16ac047",
   "metadata": {},
   "outputs": [
    {
     "data": {
      "text/plain": [
       "True"
      ]
     },
     "execution_count": 40,
     "metadata": {},
     "output_type": "execute_result"
    }
   ],
   "source": [
    "containsCircle(coin)"
   ]
  },
  {
   "cell_type": "code",
   "execution_count": 29,
   "id": "7e29ecbf",
   "metadata": {},
   "outputs": [],
   "source": [
    "imgRsize = cv2.resize(coin,(200,200), interpolation = cv2.INTER_AREA)\n",
    "imgGray = cv2.cvtColor(imgRsize,cv2.COLOR_BGR2GRAY)\n",
    "imgBlur = cv2.GaussianBlur(imgGray,(5,5),3)\n",
    "imgCanny = cv2.Canny(imgBlur,50,50)"
   ]
  },
  {
   "cell_type": "code",
   "execution_count": 41,
   "id": "00daf178",
   "metadata": {},
   "outputs": [],
   "source": [
    "cv2.imshow('image', imgCanny)\n",
    "cv2.waitKey(0)\n",
    "cv2.destroyAllWindows()"
   ]
  },
  {
   "cell_type": "code",
   "execution_count": 28,
   "id": "583e810b",
   "metadata": {},
   "outputs": [
    {
     "data": {
      "text/plain": [
       "True"
      ]
     },
     "execution_count": 28,
     "metadata": {},
     "output_type": "execute_result"
    }
   ],
   "source": [
    "isGridFilled(coin)"
   ]
  },
  {
   "cell_type": "code",
   "execution_count": 182,
   "id": "5b7776d2",
   "metadata": {},
   "outputs": [
    {
     "data": {
      "text/plain": [
       "True"
      ]
     },
     "execution_count": 182,
     "metadata": {},
     "output_type": "execute_result"
    }
   ],
   "source": [
    "cv2.imwrite('circle_1.jpg',grids[1])"
   ]
  },
  {
   "cell_type": "code",
   "execution_count": null,
   "id": "5591035a",
   "metadata": {},
   "outputs": [],
   "source": []
  }
 ],
 "metadata": {
  "kernelspec": {
   "display_name": "Python 3",
   "language": "python",
   "name": "python3"
  },
  "language_info": {
   "codemirror_mode": {
    "name": "ipython",
    "version": 3
   },
   "file_extension": ".py",
   "mimetype": "text/x-python",
   "name": "python",
   "nbconvert_exporter": "python",
   "pygments_lexer": "ipython3",
   "version": "3.6.9"
  }
 },
 "nbformat": 4,
 "nbformat_minor": 5
}
