{
 "cells": [
  {
   "cell_type": "code",
   "execution_count": 1,
   "id": "23383380",
   "metadata": {},
   "outputs": [],
   "source": [
    "import cv2\n",
    "import numpy as np\n",
    "import os"
   ]
  },
  {
   "cell_type": "markdown",
   "id": "085a3fc5",
   "metadata": {},
   "source": [
    "## Data Preprocessing"
   ]
  },
  {
   "cell_type": "code",
   "execution_count": 2,
   "id": "42defdea",
   "metadata": {},
   "outputs": [],
   "source": [
    "img_path = '../data/cross_circles/raw/cropped/circle/b_c_1.jpg'"
   ]
  },
  {
   "cell_type": "code",
   "execution_count": 3,
   "id": "3f7d93dc",
   "metadata": {},
   "outputs": [],
   "source": [
    "img = cv2.imread(img_path)\n",
    "imgRsize = cv2.resize(img,(64,64), interpolation = cv2.INTER_AREA)\n",
    "imgGray = cv2.cvtColor(imgRsize,cv2.COLOR_BGR2GRAY)"
   ]
  },
  {
   "cell_type": "code",
   "execution_count": 4,
   "id": "d1064e5a",
   "metadata": {},
   "outputs": [],
   "source": [
    "cv2.imshow('image', imgGray)\n",
    "cv2.waitKey(0)\n",
    "cv2.destroyAllWindows()"
   ]
  },
  {
   "cell_type": "code",
   "execution_count": 8,
   "id": "b95ca09f",
   "metadata": {},
   "outputs": [],
   "source": [
    "def preProcessImages(src_path, dst_path, new_size=(64,64), gray=True):\n",
    "    \"\"\"\n",
    "    process the image and saves the output\n",
    "    :param src_path: dir path where src images are located\n",
    "    :param dst_path: dir path for dst images\n",
    "    :param new_size: size of the resized image\n",
    "    :param gray: boolean which determines if output image should be grayscale\n",
    "    \"\"\"\n",
    "    for file in os.listdir(src_path):\n",
    "        img = cv2.imread(os.path.join(src_path, file))\n",
    "        img = cv2.resize(img,new_size, interpolation = cv2.INTER_AREA)\n",
    "        if gray==True:\n",
    "            img = cv2.cvtColor(img,cv2.COLOR_BGR2GRAY)\n",
    "        cv2.imwrite(os.path.join(dst_path, file),img)"
   ]
  },
  {
   "cell_type": "code",
   "execution_count": 9,
   "id": "f9e2532c",
   "metadata": {},
   "outputs": [],
   "source": [
    "# process all circles\n",
    "src_path = '../data/cross_circles/raw/cropped/circle/'\n",
    "dst_path = '../data/cross_circles/scaled/s64/circles/'\n",
    "preProcessImages(src_path,dst_path)"
   ]
  },
  {
   "cell_type": "code",
   "execution_count": 10,
   "id": "2a06b233",
   "metadata": {},
   "outputs": [],
   "source": [
    "# process all crosses\n",
    "src_path = '../data/cross_circles/raw/cropped/cross/'\n",
    "dst_path = '../data/cross_circles/scaled/s64/cross/'\n",
    "preProcessImages(src_path,dst_path)"
   ]
  },
  {
   "cell_type": "markdown",
   "id": "45d85bc6",
   "metadata": {},
   "source": [
    "## Data Augmentation"
   ]
  },
  {
   "cell_type": "code",
   "execution_count": 11,
   "id": "7daeba46",
   "metadata": {},
   "outputs": [],
   "source": [
    "import imgaug as ia\n",
    "import imgaug.augmenters as iaa"
   ]
  },
  {
   "cell_type": "code",
   "execution_count": 14,
   "id": "d09ab2cd",
   "metadata": {},
   "outputs": [],
   "source": [
    "img_path = '../data/cross_circles/scaled/s64/cross/b_x_1.jpg'\n",
    "img = cv2.imread(img_path)\n",
    "cv2.imshow('image', img)\n",
    "cv2.waitKey(0)\n",
    "cv2.destroyAllWindows()"
   ]
  },
  {
   "cell_type": "code",
   "execution_count": 15,
   "id": "d0b18b9c",
   "metadata": {},
   "outputs": [],
   "source": [
    "rotate = iaa.Affine(rotate=(-50, 30))\n",
    "gaussian_noise = iaa.AdditiveGaussianNoise(10,20)\n",
    "flip_hr = iaa.Fliplr(p=1.0)"
   ]
  },
  {
   "cell_type": "code",
   "execution_count": 16,
   "id": "4ac36670",
   "metadata": {},
   "outputs": [],
   "source": [
    "rotated_img = rotate.augment_image(img)\n",
    "noisy_img = gaussian_noise.augment_image(img)\n",
    "flipped_img = flip_hr.augment_image(img)"
   ]
  },
  {
   "cell_type": "code",
   "execution_count": 17,
   "id": "fa4f1b1e",
   "metadata": {},
   "outputs": [],
   "source": [
    "cv2.imshow('image', rotated_img)\n",
    "cv2.waitKey(0)\n",
    "cv2.destroyAllWindows()"
   ]
  },
  {
   "cell_type": "markdown",
   "id": "40b6b2f1",
   "metadata": {},
   "source": [
    "## Dataset Preparation"
   ]
  },
  {
   "cell_type": "code",
   "execution_count": null,
   "id": "b5a0e60d",
   "metadata": {},
   "outputs": [],
   "source": [
    "# Loading training dataset\n",
    "ds_train = tf.keras.preprocessing.image_dataset_from_directory(\n",
    "    '../data/cross_circles/scaled/s64/',\n",
    "    labels = 'inferred',\n",
    "    label_mode = \"int\",\n",
    "    color_mode = 'grayscale',\n",
    "    batch_size = 2,\n",
    "    image_size = (64,64),\n",
    "    shuffle = True,\n",
    "    seed = 123,\n",
    "    validation_split = 0.2,\n",
    "    subset = \"training\"\n",
    ")"
   ]
  },
  {
   "cell_type": "code",
   "execution_count": null,
   "id": "73f0a413",
   "metadata": {},
   "outputs": [],
   "source": [
    "# Loading validation dataset\n",
    "ds_test = tf.keras.preprocessing.image_dataset_from_directory(\n",
    "    '../data/cross_circles/scaled/s64/',\n",
    "    labels = 'inferred',\n",
    "    label_mode = \"int\",\n",
    "    color_mode = 'grayscale',\n",
    "    batch_size = 2,\n",
    "    image_size = (64,64),\n",
    "    shuffle = True,\n",
    "    seed = 123,\n",
    "    validation_split = 0.2,\n",
    "    subset = \"validation\"\n",
    ")"
   ]
  },
  {
   "cell_type": "code",
   "execution_count": null,
   "id": "2fd96b3a",
   "metadata": {},
   "outputs": [],
   "source": []
  },
  {
   "cell_type": "code",
   "execution_count": null,
   "id": "7a5ce0b9",
   "metadata": {},
   "outputs": [],
   "source": [
    "datagen = ImageDataGenerator(\n",
    "    rescale=1./255,\n",
    "    rotation_range=10,  # randomly rotate images in the range (degrees, 0 to 180)\n",
    "    zoom_range = 0.1, # Randomly zoom image \n",
    "    width_shift_range=0.1,  # randomly shift images horizontally (fraction of total width)\n",
    "    height_shift_range=0.1,  # randomly shift images vertically (fraction of total height)\n",
    "    dtype=tf.float32,\n",
    "    validation_split=0.2\n",
    ")"
   ]
  },
  {
   "cell_type": "code",
   "execution_count": null,
   "id": "ccb37940",
   "metadata": {},
   "outputs": [],
   "source": [
    "train_gen = datagen.flow_from_directory(\n",
    "    '../data/cross_circles/scaled/s64/',\n",
    "    target_size=(64,64),\n",
    "    batch_size=2,\n",
    "    color_mode='grayscale',\n",
    "    class_mode='sparse',\n",
    "    shuffle=True,\n",
    "    subset='training',\n",
    "    seed=123\n",
    ")"
   ]
  },
  {
   "cell_type": "code",
   "execution_count": null,
   "id": "48043801",
   "metadata": {},
   "outputs": [],
   "source": [
    "test_gen = datagen.flow_from_directory(\n",
    "    '../data/cross_circles/scaled/s64/',\n",
    "    target_size=(64,64),\n",
    "    batch_size=2,\n",
    "    color_mode='grayscale',\n",
    "    class_mode='sparse',\n",
    "    shuffle=True,\n",
    "    subset='validation',\n",
    "    seed=123\n",
    ")"
   ]
  },
  {
   "cell_type": "code",
   "execution_count": null,
   "id": "dded85f6",
   "metadata": {},
   "outputs": [],
   "source": []
  }
 ],
 "metadata": {
  "kernelspec": {
   "display_name": "Python 3",
   "language": "python",
   "name": "python3"
  },
  "language_info": {
   "codemirror_mode": {
    "name": "ipython",
    "version": 3
   },
   "file_extension": ".py",
   "mimetype": "text/x-python",
   "name": "python",
   "nbconvert_exporter": "python",
   "pygments_lexer": "ipython3",
   "version": "3.6.9"
  }
 },
 "nbformat": 4,
 "nbformat_minor": 5
}
