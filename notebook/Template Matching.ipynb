{
 "cells": [
  {
   "cell_type": "code",
   "execution_count": 20,
   "id": "f0ec3e60",
   "metadata": {},
   "outputs": [],
   "source": [
    "import cv2\n",
    "import numpy as np\n",
    "from matplotlib import pyplot as plt"
   ]
  },
  {
   "cell_type": "code",
   "execution_count": 21,
   "id": "e8cc7010",
   "metadata": {},
   "outputs": [],
   "source": [
    "# load src image\n",
    "img = cv2.imread('../data/grids/image/x_grid_1.jpg',0)\n",
    "#imgRsize = cv2.resize(img,(300,300), interpolation = cv2.INTER_AREA)\n",
    "#imgGray = cv2.cvtColor(imgRsize,cv2.COLOR_BGR2GRAY)"
   ]
  },
  {
   "cell_type": "code",
   "execution_count": 22,
   "id": "3f0b7947",
   "metadata": {},
   "outputs": [],
   "source": [
    "cv2.imshow('image', img)\n",
    "cv2.waitKey(0)\n",
    "cv2.destroyAllWindows()"
   ]
  },
  {
   "cell_type": "code",
   "execution_count": 23,
   "id": "26359143",
   "metadata": {},
   "outputs": [],
   "source": [
    "# template matching\n",
    "temp = cv2.imread('../data/cross_circles/raw/cropped/cross/p_x_1.jpg',0)\n",
    "#imgRsize = cv2.resize(img,(300,300), interpolation = cv2.INTER_AREA)\n",
    "#temp = cv2.cvtColor(temp,cv2.COLOR_BGR2GRAY)"
   ]
  },
  {
   "cell_type": "code",
   "execution_count": 24,
   "id": "a5af237b",
   "metadata": {},
   "outputs": [],
   "source": [
    "w, h = temp.shape[::-1]"
   ]
  },
  {
   "cell_type": "code",
   "execution_count": 25,
   "id": "15e967c4",
   "metadata": {},
   "outputs": [],
   "source": [
    "res = cv2.matchTemplate(img,temp,cv2.TM_CCOEFF_NORMED)\n",
    "min_val, max_val, min_loc, max_loc = cv2.minMaxLoc(res)"
   ]
  },
  {
   "cell_type": "code",
   "execution_count": 8,
   "id": "27cefea3",
   "metadata": {},
   "outputs": [
    {
     "name": "stdout",
     "output_type": "stream",
     "text": [
      "(473, 389)\n"
     ]
    }
   ],
   "source": [
    "print(res.shape)"
   ]
  },
  {
   "cell_type": "code",
   "execution_count": 32,
   "id": "22fdd6f7",
   "metadata": {},
   "outputs": [
    {
     "data": {
      "text/plain": [
       "array([[131, 129, 128, ..., 129, 128, 128],\n",
       "       [130, 128, 127, ..., 127, 127, 128],\n",
       "       [128, 126, 125, ..., 126, 126, 127],\n",
       "       ...,\n",
       "       [131, 132, 134, ...,  75,  73,  70],\n",
       "       [133, 134, 135, ...,  73,  70,  66],\n",
       "       [134, 135, 135, ...,  75,  71,  67]], dtype=uint8)"
      ]
     },
     "execution_count": 32,
     "metadata": {},
     "output_type": "execute_result"
    }
   ],
   "source": [
    "top_left = max_loc\n",
    "bottom_right = (top_left[0] + w, top_left[1] + h)\n",
    "cv.rectangle(img,top_left, bottom_right, 255, 2)"
   ]
  },
  {
   "cell_type": "code",
   "execution_count": 10,
   "id": "8a2b480d",
   "metadata": {},
   "outputs": [],
   "source": [
    "cv2.imshow('image', img)\n",
    "cv2.waitKey(0)\n",
    "cv2.destroyAllWindows()"
   ]
  },
  {
   "cell_type": "code",
   "execution_count": 44,
   "id": "751d3a58",
   "metadata": {},
   "outputs": [],
   "source": [
    "# Specify a threshold\n",
    "threshold = 0.5\n",
    "\n",
    "img_1 = img.copy()\n",
    " \n",
    "# Store the coordinates of matched area in a numpy array\n",
    "loc = np.where( res >= threshold)\n",
    " \n",
    "# Draw a rectangle around the matched region.\n",
    "for pt in zip(*loc[::-1]):\n",
    "    cv2.rectangle(img_1, pt, (pt[0] + w, pt[1] + h), (0,255,255), 2)"
   ]
  },
  {
   "cell_type": "code",
   "execution_count": 57,
   "id": "a0f3ed25",
   "metadata": {},
   "outputs": [
    {
     "data": {
      "text/plain": [
       "0"
      ]
     },
     "execution_count": 57,
     "metadata": {},
     "output_type": "execute_result"
    }
   ],
   "source": [
    "loc[0].size"
   ]
  },
  {
   "cell_type": "code",
   "execution_count": 43,
   "id": "35eac08d",
   "metadata": {},
   "outputs": [],
   "source": [
    "cv2.imshow('image', img_1)\n",
    "cv2.waitKey(0)\n",
    "cv2.destroyAllWindows()"
   ]
  },
  {
   "cell_type": "code",
   "execution_count": 46,
   "id": "d598228b",
   "metadata": {},
   "outputs": [
    {
     "data": {
      "text/plain": [
       "False"
      ]
     },
     "execution_count": 46,
     "metadata": {},
     "output_type": "execute_result"
    }
   ],
   "source": []
  },
  {
   "cell_type": "code",
   "execution_count": null,
   "id": "52a978a0",
   "metadata": {},
   "outputs": [],
   "source": []
  }
 ],
 "metadata": {
  "kernelspec": {
   "display_name": "Python 3",
   "language": "python",
   "name": "python3"
  },
  "language_info": {
   "codemirror_mode": {
    "name": "ipython",
    "version": 3
   },
   "file_extension": ".py",
   "mimetype": "text/x-python",
   "name": "python",
   "nbconvert_exporter": "python",
   "pygments_lexer": "ipython3",
   "version": "3.6.9"
  }
 },
 "nbformat": 4,
 "nbformat_minor": 5
}
