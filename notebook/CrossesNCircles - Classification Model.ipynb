{
 "cells": [
  {
   "cell_type": "code",
   "execution_count": 98,
   "id": "75d54aa6",
   "metadata": {},
   "outputs": [],
   "source": [
    "# import necessary libraries\n",
    "import tensorflow as tf\n",
    "from tensorflow import keras\n",
    "from tensorflow.keras import layers\n",
    "from tensorflow.keras.preprocessing.image import ImageDataGenerator\n",
    "\n",
    "import pandas as pd\n",
    "import numpy as np\n",
    "\n",
    "import matplotlib.pyplot as plt\n",
    "\n",
    "from sklearn.model_selection import train_test_split\n",
    "from sklearn.metrics import confusion_matrix\n",
    "\n",
    "from tensorflow.keras import Sequential\n",
    "from tensorflow.keras.layers import Activation, Dropout, Dense, Conv2D, Flatten, Dropout, MaxPooling2D, BatchNormalization\n",
    "from keras.utils.np_utils import to_categorical\n",
    "\n",
    "import os"
   ]
  },
  {
   "cell_type": "markdown",
   "id": "16220428",
   "metadata": {},
   "source": [
    "### Dataset Preparation"
   ]
  },
  {
   "cell_type": "code",
   "execution_count": 106,
   "id": "20c6ee86",
   "metadata": {},
   "outputs": [
    {
     "name": "stdout",
     "output_type": "stream",
     "text": [
      "Found 252 files belonging to 2 classes.\n",
      "Using 202 files for training.\n"
     ]
    }
   ],
   "source": [
    "# Loading training dataset\n",
    "ds_train = tf.keras.preprocessing.image_dataset_from_directory(\n",
    "    '../data/cross_circles/scaled/s32_1/',\n",
    "    labels = 'inferred',\n",
    "    label_mode = \"binary\",\n",
    "    color_mode = 'grayscale',\n",
    "    batch_size = 2,\n",
    "    image_size = (32,32),\n",
    "    shuffle = True,\n",
    "    seed = 123,\n",
    "    validation_split = 0.2,\n",
    "    subset = \"training\"\n",
    ")"
   ]
  },
  {
   "cell_type": "code",
   "execution_count": 107,
   "id": "00a3072d",
   "metadata": {},
   "outputs": [
    {
     "name": "stdout",
     "output_type": "stream",
     "text": [
      "Found 252 files belonging to 2 classes.\n",
      "Using 50 files for validation.\n"
     ]
    }
   ],
   "source": [
    "# Loading validation dataset\n",
    "ds_test = tf.keras.preprocessing.image_dataset_from_directory(\n",
    "    '../data/cross_circles/scaled/s32_1/',\n",
    "    labels = 'inferred',\n",
    "    label_mode = \"binary\",\n",
    "    color_mode = 'grayscale',\n",
    "    batch_size = 2,\n",
    "    image_size = (32,32),\n",
    "    shuffle = True,\n",
    "    seed = 123,\n",
    "    validation_split = 0.2,\n",
    "    subset = \"validation\"\n",
    ")"
   ]
  },
  {
   "cell_type": "code",
   "execution_count": 108,
   "id": "8961a134",
   "metadata": {},
   "outputs": [],
   "source": [
    "def normalize_img(image, label):\n",
    "  \"\"\"Normalizes images: `uint8` -> `float32`.\"\"\"\n",
    "  return tf.cast(image, tf.float32) / 255., label\n",
    "\n",
    "ds_train = ds_train.map(\n",
    "    normalize_img, num_parallel_calls=tf.data.AUTOTUNE)\n",
    "\n",
    "ds_test = ds_test.map(\n",
    "    normalize_img, num_parallel_calls=tf.data.AUTOTUNE)"
   ]
  },
  {
   "cell_type": "markdown",
   "id": "fe386301",
   "metadata": {},
   "source": [
    "### Model Definition"
   ]
  },
  {
   "cell_type": "code",
   "execution_count": 111,
   "id": "e96ac01d",
   "metadata": {},
   "outputs": [],
   "source": [
    "model=Sequential()\n",
    "\n",
    "#model.add(Lambda(standardize,input_shape=(28,28,1)))    \n",
    "model.add(Conv2D(filters=64, kernel_size = (3,3), activation=\"relu\", input_shape=(32,32,1)))\n",
    "model.add(Conv2D(filters=64, kernel_size = (3,3), activation=\"relu\"))\n",
    "\n",
    "model.add(MaxPooling2D(pool_size=(2,2)))\n",
    "model.add(BatchNormalization())\n",
    "model.add(Conv2D(filters=128, kernel_size = (3,3), activation=\"relu\"))\n",
    "model.add(Conv2D(filters=128, kernel_size = (3,3), activation=\"relu\"))\n",
    "\n",
    "model.add(MaxPooling2D(pool_size=(2,2)))\n",
    "model.add(BatchNormalization())    \n",
    "model.add(Conv2D(filters=256, kernel_size = (3,3), activation=\"relu\"))\n",
    "    \n",
    "model.add(MaxPooling2D(pool_size=(2,2)))\n",
    "    \n",
    "model.add(Flatten())\n",
    "model.add(BatchNormalization())\n",
    "model.add(Dense(512,activation=\"relu\"))\n",
    "    \n",
    "model.add(Dense(1,activation='sigmoid'))\n",
    "\n",
    "\"\"\"\n",
    "model.compile(\n",
    "    optimizer=tf.keras.optimizers.Adam(0.001),\n",
    "    loss=tf.keras.losses.SparseCategoricalCrossentropy(from_logits=True),\n",
    "    metrics=[tf.keras.metrics.SparseCategoricalAccuracy()],\n",
    ")\n",
    "\"\"\"\n",
    "\n",
    "model.compile(optimizer=tf.keras.optimizers.Adam(0.001), loss='binary_crossentropy', metrics=['accuracy'])"
   ]
  },
  {
   "cell_type": "code",
   "execution_count": 113,
   "id": "f8a9efbf",
   "metadata": {},
   "outputs": [],
   "source": [
    "model = Sequential()\n",
    "model.add(Conv2D(32, (3, 3), activation='relu', kernel_initializer='he_uniform', input_shape=(32,32,1)))\n",
    "model.add(MaxPooling2D((2, 2)))\n",
    "model.add(Flatten())\n",
    "model.add(Dense(100, activation='relu', kernel_initializer='he_uniform'))\n",
    "model.add(Dense(1, activation='sigmoid'))\n",
    "# compile model\n",
    "#opt = SGD(learning_rate=0.01, momentum=0.9)\n",
    "model.compile(optimizer=tf.keras.optimizers.Adam(0.001), loss='binary_crossentropy', metrics=['accuracy'])"
   ]
  },
  {
   "cell_type": "markdown",
   "id": "bc8a6a6f",
   "metadata": {},
   "source": [
    "### Fit the Model"
   ]
  },
  {
   "cell_type": "code",
   "execution_count": 114,
   "id": "28c207ed",
   "metadata": {},
   "outputs": [
    {
     "name": "stdout",
     "output_type": "stream",
     "text": [
      "Epoch 1/5\n",
      "101/101 [==============================] - 1s 7ms/step - loss: 1.9548 - accuracy: 0.5215 - val_loss: 0.6247 - val_accuracy: 0.5800\n",
      "Epoch 2/5\n",
      "101/101 [==============================] - 1s 7ms/step - loss: 0.7281 - accuracy: 0.5133 - val_loss: 0.6150 - val_accuracy: 0.4200\n",
      "Epoch 3/5\n",
      "101/101 [==============================] - 1s 7ms/step - loss: 0.5269 - accuracy: 0.7491 - val_loss: 0.4456 - val_accuracy: 0.7600\n",
      "Epoch 4/5\n",
      "101/101 [==============================] - 1s 7ms/step - loss: 0.4585 - accuracy: 0.7779 - val_loss: 0.3156 - val_accuracy: 0.9600\n",
      "Epoch 5/5\n",
      "101/101 [==============================] - 1s 7ms/step - loss: 0.3215 - accuracy: 0.9489 - val_loss: 0.2452 - val_accuracy: 0.9600\n"
     ]
    },
    {
     "data": {
      "text/plain": [
       "<tensorflow.python.keras.callbacks.History at 0x7f48d6464c50>"
      ]
     },
     "execution_count": 114,
     "metadata": {},
     "output_type": "execute_result"
    }
   ],
   "source": [
    "# Fit the model\n",
    "model.fit(\n",
    "    ds_train,\n",
    "    epochs=5,\n",
    "    validation_data=ds_test,\n",
    ")"
   ]
  },
  {
   "cell_type": "markdown",
   "id": "5661c371",
   "metadata": {},
   "source": [
    "### Alternate Model"
   ]
  },
  {
   "cell_type": "code",
   "execution_count": 102,
   "id": "47904e58",
   "metadata": {},
   "outputs": [],
   "source": [
    "model_1 = Sequential()\n",
    "\n",
    "model_1.add(Conv2D(32, kernel_size = (3,3), activation = 'relu', input_shape = (32, 32, 1)))\n",
    "model_1.add(MaxPooling2D(pool_size = (2,2)))\n",
    "model_1.add(Dropout(0.20))\n",
    "\n",
    "model_1.add(Conv2D(64, kernel_size = (3,3), activation = 'relu'))\n",
    "model_1.add(MaxPooling2D(pool_size = (2,2)))\n",
    "model_1.add(Dropout(0.20))\n",
    "\n",
    "model_1.add(Conv2D(128, kernel_size = (3,3), activation = 'relu'))\n",
    "model_1.add(MaxPooling2D(pool_size = (2,2)))\n",
    "model_1.add(Dropout(0.20))\n",
    "\n",
    "model_1.add(Flatten())\n",
    "\n",
    "model_1.add(Dense(256, activation = 'relu'))\n",
    "model_1.add(Dropout(0.20))\n",
    "model_1.add(Dense(2,activation='softmax'))"
   ]
  },
  {
   "cell_type": "code",
   "execution_count": 103,
   "id": "f43ac17f",
   "metadata": {},
   "outputs": [],
   "source": [
    "checkpoint_path = \"training_1/cp.ckpt\"\n",
    "checkpoint_dir = os.path.dirname(checkpoint_path)\n",
    "\n",
    "# Create a callback that saves the model's weights\n",
    "cp_callback = tf.keras.callbacks.ModelCheckpoint(filepath=checkpoint_path,\n",
    "                                                 save_weights_only=True,\n",
    "                                                 verbose=1)"
   ]
  },
  {
   "cell_type": "code",
   "execution_count": 104,
   "id": "c06e641e",
   "metadata": {},
   "outputs": [],
   "source": [
    "#compile the model\n",
    "model_1.compile(\n",
    "    optimizer=tf.keras.optimizers.Adam(0.001),\n",
    "    loss=tf.keras.losses.CategoricalCrossentropy(from_logits=True),\n",
    "    metrics=[\"accuracy\"],\n",
    ")"
   ]
  },
  {
   "cell_type": "code",
   "execution_count": 105,
   "id": "d4c63074",
   "metadata": {},
   "outputs": [
    {
     "name": "stdout",
     "output_type": "stream",
     "text": [
      "Epoch 1/10\n",
      "101/101 [==============================] - 1s 7ms/step - loss: 0.7977 - accuracy: 0.5314 - val_loss: 0.6905 - val_accuracy: 0.5800\n",
      "\n",
      "Epoch 00001: saving model to training_1/cp.ckpt\n",
      "Epoch 2/10\n",
      "101/101 [==============================] - 1s 5ms/step - loss: 0.6971 - accuracy: 0.4338 - val_loss: 0.6899 - val_accuracy: 0.5800\n",
      "\n",
      "Epoch 00002: saving model to training_1/cp.ckpt\n",
      "Epoch 3/10\n",
      "101/101 [==============================] - 1s 5ms/step - loss: 0.6978 - accuracy: 0.4441 - val_loss: 0.6935 - val_accuracy: 0.4200\n",
      "\n",
      "Epoch 00003: saving model to training_1/cp.ckpt\n",
      "Epoch 4/10\n",
      "101/101 [==============================] - 1s 5ms/step - loss: 0.6926 - accuracy: 0.5549 - val_loss: 0.6948 - val_accuracy: 0.4200\n",
      "\n",
      "Epoch 00004: saving model to training_1/cp.ckpt\n",
      "Epoch 5/10\n",
      "101/101 [==============================] - 1s 5ms/step - loss: 0.6920 - accuracy: 0.5831 - val_loss: 0.6952 - val_accuracy: 0.4200\n",
      "\n",
      "Epoch 00005: saving model to training_1/cp.ckpt\n",
      "Epoch 6/10\n",
      "101/101 [==============================] - 1s 5ms/step - loss: 0.6916 - accuracy: 0.5583 - val_loss: 0.6968 - val_accuracy: 0.4200\n",
      "\n",
      "Epoch 00006: saving model to training_1/cp.ckpt\n",
      "Epoch 7/10\n",
      "101/101 [==============================] - 1s 5ms/step - loss: 0.6917 - accuracy: 0.5628 - val_loss: 0.6919 - val_accuracy: 0.5800\n",
      "\n",
      "Epoch 00007: saving model to training_1/cp.ckpt\n",
      "Epoch 8/10\n",
      "101/101 [==============================] - 1s 5ms/step - loss: 0.6968 - accuracy: 0.4764 - val_loss: 0.6961 - val_accuracy: 0.4200\n",
      "\n",
      "Epoch 00008: saving model to training_1/cp.ckpt\n",
      "Epoch 9/10\n",
      "101/101 [==============================] - 1s 5ms/step - loss: 0.6905 - accuracy: 0.5872 - val_loss: 0.6978 - val_accuracy: 0.4200\n",
      "\n",
      "Epoch 00009: saving model to training_1/cp.ckpt\n",
      "Epoch 10/10\n",
      "101/101 [==============================] - 0s 5ms/step - loss: 0.6901 - accuracy: 0.5726 - val_loss: 0.6977 - val_accuracy: 0.4200\n",
      "\n",
      "Epoch 00010: saving model to training_1/cp.ckpt\n"
     ]
    },
    {
     "data": {
      "text/plain": [
       "<tensorflow.python.keras.callbacks.History at 0x7f48d6657a90>"
      ]
     },
     "execution_count": 105,
     "metadata": {},
     "output_type": "execute_result"
    }
   ],
   "source": [
    "model_1.fit(\n",
    "    ds_train,\n",
    "    epochs=10,\n",
    "    validation_data=ds_test,\n",
    "    callbacks=[cp_callback]\n",
    ")"
   ]
  },
  {
   "cell_type": "markdown",
   "id": "1d4816f2",
   "metadata": {},
   "source": [
    "### Testing"
   ]
  },
  {
   "cell_type": "code",
   "execution_count": 115,
   "id": "5c5122b2",
   "metadata": {},
   "outputs": [],
   "source": [
    "import cv2"
   ]
  },
  {
   "cell_type": "code",
   "execution_count": 117,
   "id": "ce3114f1",
   "metadata": {},
   "outputs": [],
   "source": [
    "test_img = cv2.imread('../data/cross_circles/scaled/s32_1/circles/b_c_1.jpg')"
   ]
  },
  {
   "cell_type": "code",
   "execution_count": 118,
   "id": "7b856b6f",
   "metadata": {},
   "outputs": [],
   "source": [
    "imgRsize = cv2.resize(test_img,(32,32), interpolation = cv2.INTER_AREA)\n",
    "imgGray = cv2.cvtColor(imgRsize,cv2.COLOR_BGR2GRAY)"
   ]
  },
  {
   "cell_type": "code",
   "execution_count": 119,
   "id": "a0c8f076",
   "metadata": {},
   "outputs": [
    {
     "data": {
      "text/plain": [
       "<matplotlib.image.AxesImage at 0x7f48d4ffd438>"
      ]
     },
     "execution_count": 119,
     "metadata": {},
     "output_type": "execute_result"
    },
    {
     "data": {
      "image/png": "[encoded data removed]",
      "text/plain": [
       "<Figure size 432x288 with 1 Axes>"
      ]
     },
     "metadata": {
      "needs_background": "light"
     },
     "output_type": "display_data"
    }
   ],
   "source": [
    "plt.imshow(imgGray)"
   ]
  },
  {
   "cell_type": "code",
   "execution_count": 120,
   "id": "c041701e",
   "metadata": {},
   "outputs": [
    {
     "name": "stdout",
     "output_type": "stream",
     "text": [
      "[[9.829336e-27]]\n"
     ]
    }
   ],
   "source": [
    "test_lbl = model.predict(imgGray.reshape(1,32,32,1))\n",
    "print(test_lbl)"
   ]
  },
  {
   "cell_type": "code",
   "execution_count": 121,
   "id": "78e0b6d8",
   "metadata": {},
   "outputs": [],
   "source": [
    "test_2 = cv2.imread('circle_1.jpg')"
   ]
  },
  {
   "cell_type": "code",
   "execution_count": 122,
   "id": "5ba85858",
   "metadata": {},
   "outputs": [],
   "source": [
    "rgb_planes = cv2.split(test_2)\n",
    "\n",
    "result_planes = []\n",
    "result_norm_planes = []\n",
    "for plane in rgb_planes:\n",
    "    dilated_img = cv2.dilate(plane, np.ones((7,7), np.uint8))\n",
    "    bg_img = cv2.medianBlur(dilated_img, 21)\n",
    "    diff_img = 255 - cv2.absdiff(plane, bg_img)\n",
    "    norm_img = cv2.normalize(diff_img,None, alpha=0, beta=255, norm_type=cv2.NORM_MINMAX, dtype=cv2.CV_8UC1)\n",
    "    result_planes.append(diff_img)\n",
    "    result_norm_planes.append(norm_img)\n",
    "\n",
    "result = cv2.merge(result_planes)\n",
    "result_norm = cv2.merge(result_norm_planes)"
   ]
  },
  {
   "cell_type": "code",
   "execution_count": 123,
   "id": "fd4d20c8",
   "metadata": {},
   "outputs": [
    {
     "data": {
      "text/plain": [
       "<matplotlib.image.AxesImage at 0x7f48d4f82f60>"
      ]
     },
     "execution_count": 123,
     "metadata": {},
     "output_type": "execute_result"
    },
    {
     "data": {
      "image/png": "[encoded data removed]",
      "text/plain": [
       "<Figure size 432x288 with 1 Axes>"
      ]
     },
     "metadata": {
      "needs_background": "light"
     },
     "output_type": "display_data"
    }
   ],
   "source": [
    "plt.imshow(result)"
   ]
  },
  {
   "cell_type": "code",
   "execution_count": 124,
   "id": "48103bd9",
   "metadata": {},
   "outputs": [],
   "source": [
    "imgRsize = cv2.resize(result,(32,32), interpolation = cv2.INTER_AREA)\n",
    "imgGray = cv2.cvtColor(imgRsize,cv2.COLOR_BGR2GRAY)"
   ]
  },
  {
   "cell_type": "code",
   "execution_count": 125,
   "id": "5bf89b75",
   "metadata": {},
   "outputs": [],
   "source": [
    "imgGray = imgGray/255.0"
   ]
  },
  {
   "cell_type": "code",
   "execution_count": 126,
   "id": "74e8d85f",
   "metadata": {},
   "outputs": [
    {
     "data": {
      "text/plain": [
       "<matplotlib.image.AxesImage at 0x7f48d4f49780>"
      ]
     },
     "execution_count": 126,
     "metadata": {},
     "output_type": "execute_result"
    },
    {
     "data": {
      "image/png": "[encoded data removed]",
      "text/plain": [
       "<Figure size 432x288 with 1 Axes>"
      ]
     },
     "metadata": {
      "needs_background": "light"
     },
     "output_type": "display_data"
    }
   ],
   "source": [
    "plt.imshow(imgGray[10:25,12:25])"
   ]
  },
  {
   "cell_type": "code",
   "execution_count": 127,
   "id": "3410f93b",
   "metadata": {},
   "outputs": [],
   "source": [
    "new_img = imgGray[10:25,10:25]"
   ]
  },
  {
   "cell_type": "code",
   "execution_count": 128,
   "id": "6dfda401",
   "metadata": {},
   "outputs": [],
   "source": [
    "imgRsize = cv2.resize(new_img,(32,32), interpolation = cv2.INTER_AREA)"
   ]
  },
  {
   "cell_type": "code",
   "execution_count": 129,
   "id": "60ee444f",
   "metadata": {},
   "outputs": [
    {
     "data": {
      "text/plain": [
       "<matplotlib.image.AxesImage at 0x7f48d4ebd0f0>"
      ]
     },
     "execution_count": 129,
     "metadata": {},
     "output_type": "execute_result"
    },
    {
     "data": {
      "image/png": "[encoded data removed]",
      "text/plain": [
       "<Figure size 432x288 with 1 Axes>"
      ]
     },
     "metadata": {
      "needs_background": "light"
     },
     "output_type": "display_data"
    }
   ],
   "source": [
    "plt.imshow(imgRsize)"
   ]
  },
  {
   "cell_type": "code",
   "execution_count": 130,
   "id": "684ba72a",
   "metadata": {},
   "outputs": [
    {
     "name": "stdout",
     "output_type": "stream",
     "text": [
      "[[0.80267066]]\n"
     ]
    }
   ],
   "source": [
    "test_lbl = model.predict(imgRsize.reshape(1,32,32,1))\n",
    "print(test_lbl)"
   ]
  },
  {
   "cell_type": "code",
   "execution_count": null,
   "id": "5b7ff401",
   "metadata": {},
   "outputs": [],
   "source": []
  }
 ],
 "metadata": {
  "kernelspec": {
   "display_name": "Python 3",
   "language": "python",
   "name": "python3"
  },
  "language_info": {
   "codemirror_mode": {
    "name": "ipython",
    "version": 3
   },
   "file_extension": ".py",
   "mimetype": "text/x-python",
   "name": "python",
   "nbconvert_exporter": "python",
   "pygments_lexer": "ipython3",
   "version": "3.6.9"
  }
 },
 "nbformat": 4,
 "nbformat_minor": 5
}
