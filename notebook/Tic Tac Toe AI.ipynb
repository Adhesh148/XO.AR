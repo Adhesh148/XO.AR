{
 "cells": [
  {
   "cell_type": "markdown",
   "id": "7859fe32",
   "metadata": {},
   "source": [
    "# Tic Tac Toe - AI Implementation"
   ]
  },
  {
   "cell_type": "markdown",
   "id": "2ab24162",
   "metadata": {},
   "source": [
    "### Utility Functions"
   ]
  },
  {
   "cell_type": "code",
   "execution_count": 1,
   "id": "ce62e76a",
   "metadata": {},
   "outputs": [],
   "source": [
    "def areMovesLeft(board):\n",
    "    \"\"\"\n",
    "    checks if there any moves left in the board\n",
    "    :param board: matrix that gives the current state of the board\n",
    "    :return bool: True if any move is left and False if none are left\n",
    "    \"\"\"\n",
    "    for i in range(3):\n",
    "        for j in range(3):\n",
    "            if board[i][j] == '_':\n",
    "                return True\n",
    "    return False"
   ]
  },
  {
   "cell_type": "code",
   "execution_count": 2,
   "id": "5a648915",
   "metadata": {},
   "outputs": [],
   "source": [
    "def evaluate(board):\n",
    "    \"\"\"\n",
    "    evaluation function that gives the score\n",
    "    \"\"\"\n",
    "    \n",
    "    # Check for horizontal victory possibility\n",
    "    for i in range(3):\n",
    "        if((board[i][0] == board[i][1]) and (board[i][1] == board[i][2])):\n",
    "            if board[i][0] == player:\n",
    "                return 10\n",
    "            elif board[i][0] == opponent:\n",
    "                return -10\n",
    "    \n",
    "    # Check for vertical victory possibility\n",
    "    for j in range(3):\n",
    "        if((board[0][j] == board[1][j]) and (board[1][j] == board[2][j])):\n",
    "            if board[0][j] == player:\n",
    "                return 10\n",
    "            elif board[0][j] == opponent:\n",
    "                return -10\n",
    "            \n",
    "    # Finally, check for diagonal victory possibility\n",
    "    if(((board[0][0] == board[1][1]) and (board[1][1] == board[2][2])) or \\\n",
    "       ((board[0][2] == board[1][1]) and (board[1][1] == board[2][0]))):\n",
    "        if board[1][1] == player:\n",
    "                return 10\n",
    "        elif board[1][1] == opponent:\n",
    "                return -10\n",
    "    \n",
    "    return 0"
   ]
  },
  {
   "cell_type": "code",
   "execution_count": 12,
   "id": "f0deeacc",
   "metadata": {},
   "outputs": [],
   "source": [
    "def minimax(board, depth, isMax, player, opponent):\n",
    "    \"\"\"\n",
    "    considers all possible future moves and returns the value of the board\n",
    "    \"\"\"\n",
    "    \n",
    "    score = evaluate(board)\n",
    "    \n",
    "    # if maximizer or minimizer has won the game already, just return the score\n",
    "    if score == 10 or score == -10:\n",
    "        return score\n",
    "    \n",
    "    # if it is a tie state, return 0\n",
    "    if areMovesLeft(board) == False:\n",
    "        return 0\n",
    "    \n",
    "    # if it is maximizer's move\n",
    "    if(isMax == True):\n",
    "        best = -1000\n",
    "        \n",
    "        # From all possible moves, calculate the best possible moves score \n",
    "        for i in range(3):\n",
    "            for j in range(3):\n",
    "                if(board[i][j] == '_'):\n",
    "                    board[i][j] = player                                    # make the move\n",
    "                    best = max(best,minimax(board,depth+1,not isMax, player,opponent))      # call minmax recursively\n",
    "                    board[i][j] = '_'                                       # undo the move     \n",
    "        return best\n",
    "                    \n",
    "    else:\n",
    "        best = 1000\n",
    "        for i in range(3):\n",
    "            for j in range(3):\n",
    "                if(board[i][j] == '_'):\n",
    "                    board[i][j] = opponent\n",
    "                    best = min(best, minimax(board,depth+1,not isMax, player, opponent))\n",
    "                    board[i][j] = '_'\n",
    "        return best"
   ]
  },
  {
   "cell_type": "code",
   "execution_count": 13,
   "id": "2bb261bd",
   "metadata": {},
   "outputs": [],
   "source": [
    "def findBestMove(board, player, opponent):\n",
    "    best = -1000\n",
    "    best_move = (-1,-1)\n",
    "    \n",
    "    # Traverse all empty cells and return the cell with optimal value\n",
    "    for i in range(3):\n",
    "        for j in range(3):\n",
    "            if board[i][j] == '_':\n",
    "                board[i][j] = player\n",
    "                val = minimax(board, 0, False, player, opponent)\n",
    "                board[i][j] = '_'\n",
    "                \n",
    "                if val > best:\n",
    "                    best_move = (i,j)\n",
    "                    best = val\n",
    "                    \n",
    "    return best_move"
   ]
  },
  {
   "cell_type": "code",
   "execution_count": 41,
   "id": "99eac576",
   "metadata": {},
   "outputs": [],
   "source": [
    "board = [\n",
    "    [ 'x', 'x', 'o' ],\n",
    "    [ '_', 'x', '_' ],\n",
    "    [ 'o', 'o', '_' ]\n",
    "]"
   ]
  },
  {
   "cell_type": "code",
   "execution_count": 42,
   "id": "b81966eb",
   "metadata": {},
   "outputs": [],
   "source": [
    "player, opponent = 'x', 'o'"
   ]
  },
  {
   "cell_type": "code",
   "execution_count": 43,
   "id": "1e5020cf",
   "metadata": {},
   "outputs": [
    {
     "data": {
      "text/plain": [
       "(2, 2)"
      ]
     },
     "execution_count": 43,
     "metadata": {},
     "output_type": "execute_result"
    }
   ],
   "source": [
    "findBestMove(board,player,opponent)"
   ]
  },
  {
   "cell_type": "code",
   "execution_count": null,
   "id": "88f966b9",
   "metadata": {},
   "outputs": [],
   "source": []
  }
 ],
 "metadata": {
  "kernelspec": {
   "display_name": "Python 3",
   "language": "python",
   "name": "python3"
  },
  "language_info": {
   "codemirror_mode": {
    "name": "ipython",
    "version": 3
   },
   "file_extension": ".py",
   "mimetype": "text/x-python",
   "name": "python",
   "nbconvert_exporter": "python",
   "pygments_lexer": "ipython3",
   "version": "3.6.9"
  }
 },
 "nbformat": 4,
 "nbformat_minor": 5
}
