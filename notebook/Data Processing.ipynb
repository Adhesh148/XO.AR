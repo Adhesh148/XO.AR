{
 "cells": [
  {
   "cell_type": "code",
   "execution_count": 17,
   "id": "395661b7",
   "metadata": {},
   "outputs": [],
   "source": [
    "import cv2\n",
    "import numpy as np\n",
    "import os\n",
    "\n",
    "import matplotlib.pyplot as plt"
   ]
  },
  {
   "cell_type": "markdown",
   "id": "2b7e43ab",
   "metadata": {},
   "source": [
    "## Data Preprocessing"
   ]
  },
  {
   "cell_type": "code",
   "execution_count": 2,
   "id": "e59ea731",
   "metadata": {},
   "outputs": [],
   "source": [
    "img_path = '../data/cross_circles/raw/cropped/circle/b_c_1.jpg'"
   ]
  },
  {
   "cell_type": "code",
   "execution_count": 3,
   "id": "5448ce7d",
   "metadata": {},
   "outputs": [],
   "source": [
    "img = cv2.imread(img_path)\n",
    "imgRsize = cv2.resize(img,(64,64), interpolation = cv2.INTER_AREA)\n",
    "imgGray = cv2.cvtColor(imgRsize,cv2.COLOR_BGR2GRAY)"
   ]
  },
  {
   "cell_type": "code",
   "execution_count": 4,
   "id": "8f6d5797",
   "metadata": {},
   "outputs": [],
   "source": [
    "cv2.imshow('image', imgGray)\n",
    "cv2.waitKey(0)\n",
    "cv2.destroyAllWindows()"
   ]
  },
  {
   "cell_type": "code",
   "execution_count": 22,
   "id": "3eea4dd2",
   "metadata": {},
   "outputs": [],
   "source": [
    "def preProcessImages(src_path, dst_path, new_size=(64,64), gray=True,canny=False):\n",
    "    \"\"\"\n",
    "    process the image and saves the output\n",
    "    :param src_path: dir path where src images are located\n",
    "    :param dst_path: dir path for dst images\n",
    "    :param new_size: size of the resized image\n",
    "    :param gray: boolean which determines if output image should be grayscale\n",
    "    \"\"\"\n",
    "    for file in os.listdir(src_path):\n",
    "        \n",
    "        img = cv2.imread(os.path.join(src_path, file))\n",
    "        rgb_planes = cv2.split(img)\n",
    "        \n",
    "        result_planes = []\n",
    "        result_norm_planes = []\n",
    "        for plane in rgb_planes:\n",
    "            dilated_img = cv2.dilate(plane, np.ones((7,7), np.uint8))\n",
    "            bg_img = cv2.medianBlur(dilated_img, 21)\n",
    "            diff_img = 255 - cv2.absdiff(plane, bg_img)\n",
    "            norm_img = cv2.normalize(diff_img,None, alpha=0, beta=255, norm_type=cv2.NORM_MINMAX, dtype=cv2.CV_8UC1)\n",
    "            result_planes.append(diff_img)\n",
    "            result_norm_planes.append(norm_img)\n",
    "\n",
    "        result = cv2.merge(result_planes)\n",
    "        result_norm = cv2.merge(result_norm_planes)\n",
    "        \n",
    "        \n",
    "        img = cv2.resize(result_norm,new_size, interpolation = cv2.INTER_AREA)\n",
    "        \n",
    "        if gray==True:\n",
    "            img = cv2.cvtColor(img,cv2.COLOR_BGR2GRAY)\n",
    "        if canny==True:\n",
    "            img = cv2.GaussianBlur(img,(5,5),3)\n",
    "            img = cv2.Canny(img,50,50)\n",
    "        cv2.imwrite(os.path.join(dst_path, file),img)"
   ]
  },
  {
   "cell_type": "code",
   "execution_count": 9,
   "id": "e761f18d",
   "metadata": {},
   "outputs": [],
   "source": [
    "# process all circles\n",
    "src_path = '../data/cross_circles/raw/cropped/circle/'\n",
    "dst_path = '../data/cross_circles/scaled/s64/circles/'\n",
    "preProcessImages(src_path,dst_path)"
   ]
  },
  {
   "cell_type": "code",
   "execution_count": 10,
   "id": "483578bf",
   "metadata": {},
   "outputs": [],
   "source": [
    "# process all crosses\n",
    "src_path = '../data/cross_circles/raw/cropped/cross/'\n",
    "dst_path = '../data/cross_circles/scaled/s64/cross/'\n",
    "preProcessImages(src_path,dst_path)"
   ]
  },
  {
   "cell_type": "markdown",
   "id": "bec1d59c",
   "metadata": {},
   "source": [
    "#### Canny"
   ]
  },
  {
   "cell_type": "code",
   "execution_count": 7,
   "id": "bfc94f62",
   "metadata": {},
   "outputs": [],
   "source": [
    "src_path = '../data/cross_circles/raw/cropped/circle/'\n",
    "dst_path = '../data/cross_circles/scaled/sc64/circles/'\n",
    "preProcessImages(src_path,dst_path,canny=True)"
   ]
  },
  {
   "cell_type": "code",
   "execution_count": 8,
   "id": "43173a54",
   "metadata": {},
   "outputs": [],
   "source": [
    "# process all crosses\n",
    "src_path = '../data/cross_circles/raw/cropped/cross/'\n",
    "dst_path = '../data/cross_circles/scaled/sc64/cross/'\n",
    "preProcessImages(src_path,dst_path,canny=True)"
   ]
  },
  {
   "cell_type": "markdown",
   "id": "0f3e9006",
   "metadata": {},
   "source": [
    "#### Scale to128"
   ]
  },
  {
   "cell_type": "code",
   "execution_count": 13,
   "id": "f8c538dd",
   "metadata": {},
   "outputs": [],
   "source": [
    "# process all circles\n",
    "src_path = '../data/cross_circles/raw/cropped/circle/'\n",
    "dst_path = '../data/cross_circles/scaled/s256/circles/'\n",
    "preProcessImages(src_path,dst_path,new_size=(256,256))"
   ]
  },
  {
   "cell_type": "code",
   "execution_count": 14,
   "id": "63e986b9",
   "metadata": {},
   "outputs": [],
   "source": [
    "# process all crosses\n",
    "src_path = '../data/cross_circles/raw/cropped/cross/'\n",
    "dst_path = '../data/cross_circles/scaled/s256/cross/'\n",
    "preProcessImages(src_path,dst_path,new_size=(256,256))"
   ]
  },
  {
   "cell_type": "code",
   "execution_count": null,
   "id": "27655005",
   "metadata": {},
   "outputs": [],
   "source": []
  },
  {
   "cell_type": "code",
   "execution_count": 19,
   "id": "3005d526",
   "metadata": {},
   "outputs": [],
   "source": [
    "# process all circles\n",
    "src_path = '../data/cross_circles/raw/cropped/circle/'\n",
    "dst_path = '../data/cross_circles/scaled/s32/circles/'\n",
    "preProcessImages(src_path,dst_path,new_size=(32,32))"
   ]
  },
  {
   "cell_type": "code",
   "execution_count": 20,
   "id": "e7c1b5fd",
   "metadata": {},
   "outputs": [],
   "source": [
    "# process all crosses\n",
    "src_path = '../data/cross_circles/raw/cropped/cross/'\n",
    "dst_path = '../data/cross_circles/scaled/s32/cross/'\n",
    "preProcessImages(src_path,dst_path,new_size=(32,32))"
   ]
  },
  {
   "cell_type": "code",
   "execution_count": null,
   "id": "e2eaa668",
   "metadata": {},
   "outputs": [],
   "source": []
  },
  {
   "cell_type": "code",
   "execution_count": 23,
   "id": "1b02e681",
   "metadata": {},
   "outputs": [],
   "source": [
    "# process all circles\n",
    "src_path = '../data/cross_circles/raw/cropped/circle/'\n",
    "dst_path = '../data/cross_circles/scaled/s32_1/circles/'\n",
    "preProcessImages(src_path,dst_path,new_size=(32,32))"
   ]
  },
  {
   "cell_type": "code",
   "execution_count": 25,
   "id": "d0659052",
   "metadata": {},
   "outputs": [],
   "source": [
    "# process all crosses\n",
    "src_path = '../data/cross_circles/raw/cropped/cross/'\n",
    "dst_path = '../data/cross_circles/scaled/s32_1/cross/'\n",
    "preProcessImages(src_path,dst_path,new_size=(32,32))"
   ]
  },
  {
   "cell_type": "markdown",
   "id": "876407a2",
   "metadata": {},
   "source": [
    "## Data Augmentation"
   ]
  },
  {
   "cell_type": "code",
   "execution_count": 15,
   "id": "55a17d63",
   "metadata": {},
   "outputs": [],
   "source": [
    "import imgaug as ia\n",
    "import imgaug.augmenters as iaa"
   ]
  },
  {
   "cell_type": "code",
   "execution_count": 18,
   "id": "65111a11",
   "metadata": {},
   "outputs": [
    {
     "data": {
      "text/plain": [
       "<matplotlib.image.AxesImage at 0x7f8fe7dc69b0>"
      ]
     },
     "execution_count": 18,
     "metadata": {},
     "output_type": "execute_result"
    },
    {
     "data": {
      "image/png": "[encoded data removed]",
      "text/plain": [
       "<Figure size 432x288 with 1 Axes>"
      ]
     },
     "metadata": {
      "needs_background": "light"
     },
     "output_type": "display_data"
    }
   ],
   "source": [
    "img_path = '../data/cross_circles/scaled/s64/cross/b_x_1.jpg'\n",
    "img = cv2.imread(img_path)\n",
    "plt.imshow(img,cmap='gray')"
   ]
  },
  {
   "cell_type": "code",
   "execution_count": 15,
   "id": "2a162fa0",
   "metadata": {},
   "outputs": [],
   "source": [
    "rotate = iaa.Affine(rotate=(-50, 30))\n",
    "gaussian_noise = iaa.AdditiveGaussianNoise(10,20)\n",
    "flip_hr = iaa.Fliplr(p=1.0)"
   ]
  },
  {
   "cell_type": "code",
   "execution_count": 16,
   "id": "e103f285",
   "metadata": {},
   "outputs": [],
   "source": [
    "rotated_img = rotate.augment_image(img)\n",
    "noisy_img = gaussian_noise.augment_image(img)\n",
    "flipped_img = flip_hr.augment_image(img)"
   ]
  },
  {
   "cell_type": "code",
   "execution_count": 17,
   "id": "9e5062cc",
   "metadata": {},
   "outputs": [],
   "source": [
    "cv2.imshow('image', rotated_img)\n",
    "cv2.waitKey(0)\n",
    "cv2.destroyAllWindows()"
   ]
  },
  {
   "cell_type": "markdown",
   "id": "653619dc",
   "metadata": {},
   "source": [
    "## Dataset Preparation"
   ]
  },
  {
   "cell_type": "code",
   "execution_count": null,
   "id": "00a87d8c",
   "metadata": {},
   "outputs": [],
   "source": [
    "# Loading training dataset\n",
    "ds_train = tf.keras.preprocessing.image_dataset_from_directory(\n",
    "    '../data/cross_circles/scaled/s64/',\n",
    "    labels = 'inferred',\n",
    "    label_mode = \"int\",\n",
    "    color_mode = 'grayscale',\n",
    "    batch_size = 2,\n",
    "    image_size = (64,64),\n",
    "    shuffle = True,\n",
    "    seed = 123,\n",
    "    validation_split = 0.2,\n",
    "    subset = \"training\"\n",
    ")"
   ]
  },
  {
   "cell_type": "code",
   "execution_count": null,
   "id": "9cb63644",
   "metadata": {},
   "outputs": [],
   "source": [
    "# Loading validation dataset\n",
    "ds_test = tf.keras.preprocessing.image_dataset_from_directory(\n",
    "    '../data/cross_circles/scaled/s64/',\n",
    "    labels = 'inferred',\n",
    "    label_mode = \"int\",\n",
    "    color_mode = 'grayscale',\n",
    "    batch_size = 2,\n",
    "    image_size = (64,64),\n",
    "    shuffle = True,\n",
    "    seed = 123,\n",
    "    validation_split = 0.2,\n",
    "    subset = \"validation\"\n",
    ")"
   ]
  },
  {
   "cell_type": "code",
   "execution_count": null,
   "id": "bad76f28",
   "metadata": {},
   "outputs": [],
   "source": []
  },
  {
   "cell_type": "code",
   "execution_count": null,
   "id": "c0d48487",
   "metadata": {},
   "outputs": [],
   "source": [
    "datagen = ImageDataGenerator(\n",
    "    rescale=1./255,\n",
    "    rotation_range=10,  # randomly rotate images in the range (degrees, 0 to 180)\n",
    "    zoom_range = 0.1, # Randomly zoom image \n",
    "    width_shift_range=0.1,  # randomly shift images horizontally (fraction of total width)\n",
    "    height_shift_range=0.1,  # randomly shift images vertically (fraction of total height)\n",
    "    dtype=tf.float32,\n",
    "    validation_split=0.2\n",
    ")"
   ]
  },
  {
   "cell_type": "code",
   "execution_count": null,
   "id": "1f78ad6d",
   "metadata": {},
   "outputs": [],
   "source": [
    "train_gen = datagen.flow_from_directory(\n",
    "    '../data/cross_circles/scaled/s64/',\n",
    "    target_size=(64,64),\n",
    "    batch_size=2,\n",
    "    color_mode='grayscale',\n",
    "    class_mode='sparse',\n",
    "    shuffle=True,\n",
    "    subset='training',\n",
    "    seed=123\n",
    ")"
   ]
  },
  {
   "cell_type": "code",
   "execution_count": null,
   "id": "24fd0305",
   "metadata": {},
   "outputs": [],
   "source": [
    "test_gen = datagen.flow_from_directory(\n",
    "    '../data/cross_circles/scaled/s64/',\n",
    "    target_size=(64,64),\n",
    "    batch_size=2,\n",
    "    color_mode='grayscale',\n",
    "    class_mode='sparse',\n",
    "    shuffle=True,\n",
    "    subset='validation',\n",
    "    seed=123\n",
    ")"
   ]
  },
  {
   "cell_type": "code",
   "execution_count": null,
   "id": "46fc24d7",
   "metadata": {},
   "outputs": [],
   "source": []
  }
 ],
 "metadata": {
  "kernelspec": {
   "display_name": "Python 3",
   "language": "python",
   "name": "python3"
  },
  "language_info": {
   "codemirror_mode": {
    "name": "ipython",
    "version": 3
   },
   "file_extension": ".py",
   "mimetype": "text/x-python",
   "name": "python",
   "nbconvert_exporter": "python",
   "pygments_lexer": "ipython3",
   "version": "3.6.9"
  }
 },
 "nbformat": 4,
 "nbformat_minor": 5
}
